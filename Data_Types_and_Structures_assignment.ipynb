{
  "nbformat": 4,
  "nbformat_minor": 0,
  "metadata": {
    "colab": {
      "provenance": []
    },
    "kernelspec": {
      "name": "python3",
      "display_name": "Python 3"
    },
    "language_info": {
      "name": "python"
    }
  },
  "cells": [
    {
      "cell_type": "markdown",
      "source": [
        "##           #    Data Types and Structures Assignment."
      ],
      "metadata": {
        "id": "6niBQZZ_DAYU"
      }
    },
    {
      "cell_type": "markdown",
      "source": [],
      "metadata": {
        "id": "VQbrATwnDPSc"
      }
    },
    {
      "cell_type": "markdown",
      "source": [
        "1. What are data structures, and why are they important.\n",
        "  > Data structures can be defined as methods of organizing and storing data in a computer's memory. They allow for efficient data management and support various operations such as insertion, deletion, searching, and sorting.\n",
        "  Data structure are inportent for efficint data organitation, optimized performance, algoritham developement, memory management and improveing problem solving skill.\n",
        "\n",
        "2. Explain the difference between mutable and immutable data types with  examples.\n",
        "  > mutable data types.\n",
        "   my_list = [1, 2, 3]\n",
        "my_list.append(4)  # Modifies the original list\n",
        "print(my_list)  # Output: [1, 2, 3, 4]\n",
        "\n",
        "  > immutable data types.\n",
        "   my_string = \"hello\"\n",
        "new_string = my_string.upper()  # Creates a new string\n",
        "print(my_string)  # Output: hello\n",
        "print(new_string)  # Output: HELLO\n",
        "\n",
        "3. What are the main differences between lists and tuples in Python.\n",
        "  > the main difference bitween lists and tuple are:\n",
        "   list is a mutable data structure and needed higher memory use.\n",
        "   tuple is a immutable data structure and needed low memory use.\n",
        "\n",
        "4. Describe how dictionaries store data.\n",
        "  > In Python, dictionaries store data in key-value pairs, which allows for efficient and flexible data retrieval, enabling quick lookups and modifications.\n",
        "\n",
        "5. Why might you use a set instead of a list in Python.\n",
        "  > Using a set instead of a list in Python can provide several advantages, including uniqueness, faster membership testing, and operations that are not available for lists.\n",
        "\n",
        "6. What is a string in Python, and how is it different from a list.\n",
        "  > In Python, a string is a sequence of characters enclosed in quotes, while a list is a mutable collection that can hold various data types, including strings.\n",
        "\n",
        "7. How do tuples ensure data integrity in Python.\n",
        "  > Tuples safeguard data integrity in Python through their immutable nature, ensuring that once created, their contents cannot be altered.\n",
        "\n",
        "8. What is a hash table, and how does it relate to dictionaries in Python.\n",
        "  > A hash table is a data structure that stores key-value pairs for fast access, and in Python, dictionaries are the built-in implementation of hash tables.\n",
        "\n",
        "9. Can lists contain different data types in Python.\n",
        "  > Yes, lists can contain different data types, allowing for flexibility in storing mixed data within a single collection.\n",
        "\n",
        "10. Explain why strings are immutable in Python.\n",
        "  > Strings in Python are immutable, meaning they cannot be changed once created, which provides several benefits, including memory efficiency, security, and ease of use.\n",
        "\n",
        "11. What advantages do dictionaries offer over lists for certain tasks.\n",
        "  > Dictionaries in Python offer significant advantages over lists, particularly in terms of fast lookups, flexible data organization, and suitability for key-value pair relationships.\n",
        "\n",
        "12. Describe a scenario where using a tuple would be preferable over a list.\n",
        "  > Using a tuple would be preferable over a list in scenarios where the data must remain constant and immutable, such as storing geographic coordinates or fixed configuration settings.\n",
        "\n",
        "13. How do sets handle duplicate values in Python.\n",
        "  > In Python, sets automatically handle duplicate values by ensuring that all elements are unique; any attempts to add a duplicate element to a set will simply be ignored.\n",
        "\n",
        "14. How does the “in” keyword work differently for lists and dictionaries.\n",
        "  > The in and not in operator works on dictionaries; it tells you whether something appears or not as a key in the dictionary. It returns two values True or False. The in operator uses different algorithms for lists and dictionaries. For lists, it uses a search algorithm.\n",
        "\n",
        "15. Can you modify the elements of a tuple? Explain why or why not.\n",
        "  > No, you cannot modify the elements of a tuple in Python because tuples are immutable, meaning that once they are created, their values cannot be changed.\n",
        "\n",
        "16. What is a nested dictionary, and give an example of its use case.\n",
        "  > A nested dictionary in Python is a dictionary containing another dictionary (or dictionaries) as its value, allowing for hierarchical data representation.\n",
        "  # A dictionary containing another dictionary\n",
        "students = {\n",
        "    \"Student1\": {\n",
        "        \"Name\": \"Aarav\",\n",
        "        \"Age\": 15,\n",
        "        \"Subjects\": [\"Math\", \"Science\", \"English\"]\n",
        "    },\n",
        "    \"Student2\": {\n",
        "        \"Name\": \"Ishita\",\n",
        "        \"Age\": 14,\n",
        "        \"Subjects\": [\"History\", \"Math\", \"Biology\"]\n",
        "    }\n",
        "}\n",
        "\n",
        "# Accessing nested dictionary values\n",
        "print(students[\"Student1\"][\"Name\"])  # Output: Aarav\n",
        "print(students[\"Student2\"][\"Subjects\"])  # Output: ['History', 'Math', 'Biology']\n",
        "\n",
        "# Adding a new student\n",
        "students[\"Student3\"] = {\n",
        "    \"Name\": \"Kabir\",\n",
        "    \"Age\": 16,\n",
        "    \"Subjects\": [\"Physics\", \"Chemistry\", \"Math\"]\n",
        "}\n",
        "\n",
        "print(students)\n",
        "\n",
        "\n",
        "17. Describe the time complexity of accessing elements in a dictionary.\n",
        "  > The time complexity for accessing elements in a Python dictionary is generally\n",
        "O(1), meaning that it allows for constant time complexity when retrieving values by their corresponding keys.\n",
        "\n",
        "18. In what situations are lists preferred over dictionaries.\n",
        "  > Lists are preferred over dictionaries in Python when maintaining order is crucial, when duplicates are allowed, or when sequential operations are frequently performed.\n",
        "\n",
        "19. Why are dictionaries considered unordered, and how does that affect data retrieval.\n",
        "  > Although dictionaries preserve insertion order starting from Python  3.7, their keys are unordered, meaning you cannot index or slice them like ordered structures. Elements are stored and retrieved in the order of insertion. No guaranteed order of elements.\n",
        "\n",
        "20. Explain the difference between a list and a dictionary in terms of data retrieval.\n",
        "  > In Python, a list is an ordered collection accessed by index, while a dictionary is an unordered collection accessed by keys, offering different data retrieval methods and performance characteristics."
      ],
      "metadata": {
        "id": "nNO7N3tMDZWI"
      }
    },
    {
      "cell_type": "markdown",
      "source": [
        "#      # practical question"
      ],
      "metadata": {
        "id": "JW3dTzEod3EI"
      }
    },
    {
      "cell_type": "code",
      "execution_count": 2,
      "metadata": {
        "colab": {
          "base_uri": "https://localhost:8080/"
        },
        "id": "R0p2hF6SB4-f",
        "outputId": "df54a405-442d-46af-ed77-07217c5af1f0"
      },
      "outputs": [
        {
          "output_type": "stream",
          "name": "stdout",
          "text": [
            "michal tamang\n"
          ]
        }
      ],
      "source": [
        " # 1. Write a code to create a string with your name and print it.\n",
        "name = \"michal tamang\"\n",
        "print(name)"
      ]
    },
    {
      "cell_type": "code",
      "source": [
        "# 2. Write a code to find the length of the string \"Hello World\".\n",
        "my_string = \"Hello World\"\n",
        "len(my_string)"
      ],
      "metadata": {
        "colab": {
          "base_uri": "https://localhost:8080/"
        },
        "id": "xxiO3hezemcM",
        "outputId": "54ef9cf2-3a77-47ef-d14f-aa585a145694"
      },
      "execution_count": 3,
      "outputs": [
        {
          "output_type": "execute_result",
          "data": {
            "text/plain": [
              "11"
            ]
          },
          "metadata": {},
          "execution_count": 3
        }
      ]
    },
    {
      "cell_type": "code",
      "source": [
        "# 3. Write a code to slice the first 3 characters from the string \"Python Programming\".\n",
        "string = \"python programming\"\n",
        "string[0:3]"
      ],
      "metadata": {
        "colab": {
          "base_uri": "https://localhost:8080/",
          "height": 35
        },
        "id": "ag3TuBmIfEYe",
        "outputId": "c935ac45-78ad-4203-e003-0c774af1f92d"
      },
      "execution_count": 4,
      "outputs": [
        {
          "output_type": "execute_result",
          "data": {
            "text/plain": [
              "'pyt'"
            ],
            "application/vnd.google.colaboratory.intrinsic+json": {
              "type": "string"
            }
          },
          "metadata": {},
          "execution_count": 4
        }
      ]
    },
    {
      "cell_type": "code",
      "source": [
        "# 4. Write a code to convert the string \"hello\" to uppercase.\n",
        "my_string = \"hello\"\n",
        "my_string.upper()"
      ],
      "metadata": {
        "colab": {
          "base_uri": "https://localhost:8080/",
          "height": 35
        },
        "id": "XBHwNSdvft-w",
        "outputId": "79b3b8db-eb28-4753-bfd6-f9dde06d4eda"
      },
      "execution_count": 5,
      "outputs": [
        {
          "output_type": "execute_result",
          "data": {
            "text/plain": [
              "'HELLO'"
            ],
            "application/vnd.google.colaboratory.intrinsic+json": {
              "type": "string"
            }
          },
          "metadata": {},
          "execution_count": 5
        }
      ]
    },
    {
      "cell_type": "code",
      "source": [
        "from typing_extensions import overload\n",
        "# 5. Write a code to replace the word \"apple\" with \"orange\" in the string \"I like apple\".\n",
        "old_string = \"I like apple\"\n",
        "new_string = old_string.replace(\"apple\", \"orange\")\n",
        "print(new_string)"
      ],
      "metadata": {
        "colab": {
          "base_uri": "https://localhost:8080/"
        },
        "id": "fo5Od6QWgPXV",
        "outputId": "86f70a6d-a38f-4836-b150-576292b06758"
      },
      "execution_count": 6,
      "outputs": [
        {
          "output_type": "stream",
          "name": "stdout",
          "text": [
            "I like orange\n"
          ]
        }
      ]
    },
    {
      "cell_type": "code",
      "source": [
        "# 6. Write a code to create a list with numbers 1 to 5 and print it.\n",
        "number = list(range(1,6))\n",
        "print(number)"
      ],
      "metadata": {
        "colab": {
          "base_uri": "https://localhost:8080/"
        },
        "id": "pq4Z0P9LhRTm",
        "outputId": "764b59df-4a17-4fc3-a76c-c8cbcfadcd61"
      },
      "execution_count": 7,
      "outputs": [
        {
          "output_type": "stream",
          "name": "stdout",
          "text": [
            "[1, 2, 3, 4, 5]\n"
          ]
        }
      ]
    },
    {
      "cell_type": "code",
      "source": [
        "# 7. Write a code to append the number 10 to the list [1, 2, 3, 4]\n",
        "list = [1, 2, 3, 4]\n",
        "list.append(10)\n",
        "print(list)"
      ],
      "metadata": {
        "colab": {
          "base_uri": "https://localhost:8080/"
        },
        "id": "5O1U2_4dh7bL",
        "outputId": "0f9298fe-a04d-4e2b-e6b5-fece6cabaf1b"
      },
      "execution_count": 9,
      "outputs": [
        {
          "output_type": "stream",
          "name": "stdout",
          "text": [
            "[1, 2, 3, 4, 10]\n"
          ]
        }
      ]
    },
    {
      "cell_type": "code",
      "source": [
        "# 8. Write a code to remove the number 3 from the list [1, 2, 3, 4, 5].\n",
        "list = [1, 2, 3, 4, 5]\n",
        "list.remove(3)\n",
        "print(list)"
      ],
      "metadata": {
        "colab": {
          "base_uri": "https://localhost:8080/"
        },
        "id": "J36KvuuKiN4P",
        "outputId": "4cd4bd05-1c99-4267-f9b0-b15e43a060ff"
      },
      "execution_count": 11,
      "outputs": [
        {
          "output_type": "stream",
          "name": "stdout",
          "text": [
            "[1, 2, 4, 5]\n"
          ]
        }
      ]
    },
    {
      "cell_type": "code",
      "source": [
        "# 9. Write a code to access the second element in the list ['a', 'b', 'c', 'd'].\n",
        "list = ['a', 'b', 'c', 'd']\n",
        "list[1]"
      ],
      "metadata": {
        "colab": {
          "base_uri": "https://localhost:8080/",
          "height": 35
        },
        "id": "jn1WdUPRjAyK",
        "outputId": "4cea9a54-b4a5-48df-dfb1-b41f1e758a27"
      },
      "execution_count": 12,
      "outputs": [
        {
          "output_type": "execute_result",
          "data": {
            "text/plain": [
              "'b'"
            ],
            "application/vnd.google.colaboratory.intrinsic+json": {
              "type": "string"
            }
          },
          "metadata": {},
          "execution_count": 12
        }
      ]
    },
    {
      "cell_type": "code",
      "source": [
        "# 10. Write a code to reverse the list [10, 20, 30, 40, 50].\n",
        "list = [10, 20, 30, 40, 50]\n",
        "list.reverse()\n",
        "print(list)"
      ],
      "metadata": {
        "colab": {
          "base_uri": "https://localhost:8080/"
        },
        "id": "vdvSc4iAj4qo",
        "outputId": "6b29e024-1575-4fed-fbc3-81bf799fc726"
      },
      "execution_count": 13,
      "outputs": [
        {
          "output_type": "stream",
          "name": "stdout",
          "text": [
            "[50, 40, 30, 20, 10]\n"
          ]
        }
      ]
    },
    {
      "cell_type": "code",
      "source": [
        "# 11. . Write a code to create a tuple with the elements 100, 200, 300 and print it.\n",
        "tuple = (100, 200, 300)\n",
        "print(tuple)"
      ],
      "metadata": {
        "colab": {
          "base_uri": "https://localhost:8080/"
        },
        "id": "wLIvYx0ukv-B",
        "outputId": "38827046-f9aa-4c92-f51b-4ec8d04f463c"
      },
      "execution_count": 14,
      "outputs": [
        {
          "output_type": "stream",
          "name": "stdout",
          "text": [
            "(100, 200, 300)\n"
          ]
        }
      ]
    },
    {
      "cell_type": "code",
      "source": [
        " # 12. Write a code to access the second-to-last element of the tuple ('red', 'green', 'blue', 'yellow').\n",
        "tuple = ('red', 'green', 'blue', 'yellow')\n",
        "tuple[1:4]"
      ],
      "metadata": {
        "colab": {
          "base_uri": "https://localhost:8080/"
        },
        "id": "nNtL5BAxlfO4",
        "outputId": "a9a03005-2448-4e78-caeb-14a5ce65785d"
      },
      "execution_count": 17,
      "outputs": [
        {
          "output_type": "execute_result",
          "data": {
            "text/plain": [
              "('green', 'blue', 'yellow')"
            ]
          },
          "metadata": {},
          "execution_count": 17
        }
      ]
    },
    {
      "cell_type": "code",
      "source": [
        "# 13.  Write a code to find the minimum number in the tuple (10, 20, 5, 15).\n",
        "number = (10, 20, 5, 15)\n",
        "minimum_number = min(number)\n",
        "print(minimum_number)"
      ],
      "metadata": {
        "colab": {
          "base_uri": "https://localhost:8080/"
        },
        "id": "ashjj4BZmAXG",
        "outputId": "2815e428-376c-4a4c-805f-b5e4a77d9d40"
      },
      "execution_count": 18,
      "outputs": [
        {
          "output_type": "stream",
          "name": "stdout",
          "text": [
            "5\n"
          ]
        }
      ]
    },
    {
      "cell_type": "code",
      "source": [
        "# 14.  Write a code to find the index of the element \"cat\" in the tuple ('dog', 'cat', 'rabbit').\n",
        "tuple = ('dog', 'cat', 'rabbit')\n",
        "index_of_cat = tuple.index('cat')\n",
        "print(index_of_cat)"
      ],
      "metadata": {
        "colab": {
          "base_uri": "https://localhost:8080/"
        },
        "id": "w275VOazn_A7",
        "outputId": "50aac243-cf45-4459-c9dd-df2ac6f6260c"
      },
      "execution_count": 20,
      "outputs": [
        {
          "output_type": "stream",
          "name": "stdout",
          "text": [
            "1\n"
          ]
        }
      ]
    },
    {
      "cell_type": "code",
      "source": [
        "# 15.  Write a code to create a tuple containing three different fruits and check if \"kiwi\" is in it.\n",
        "fruit = ('apple', 'orange', 'banana')\n",
        "if 'kiwi' in fruit:\n",
        "  print('kiwi is in the fruit')\n",
        "else:\n",
        "  print('kiwi is not in the fruit')"
      ],
      "metadata": {
        "colab": {
          "base_uri": "https://localhost:8080/"
        },
        "id": "L7iCNgDoo_sJ",
        "outputId": "af072038-beb6-4edd-827c-da5f54f06f21"
      },
      "execution_count": 21,
      "outputs": [
        {
          "output_type": "stream",
          "name": "stdout",
          "text": [
            "kiwi is not in the fruit\n"
          ]
        }
      ]
    },
    {
      "cell_type": "code",
      "source": [
        "# 16. write a code to create a set with the elements 'a', 'b', 'c' and print it.\n",
        "my_set = {'a', 'b', 'c'}\n",
        "print(my_set)"
      ],
      "metadata": {
        "colab": {
          "base_uri": "https://localhost:8080/"
        },
        "id": "3v798ICoqG_6",
        "outputId": "acc42fb5-0d43-4372-c59e-85498823f057"
      },
      "execution_count": 22,
      "outputs": [
        {
          "output_type": "stream",
          "name": "stdout",
          "text": [
            "{'a', 'c', 'b'}\n"
          ]
        }
      ]
    },
    {
      "cell_type": "code",
      "source": [
        "# 17. Write a code to clear all elements from the set {1, 2, 3, 4, 5}.\n",
        "set = {1, 2, 3, 4, 5}\n",
        "set.clear()\n",
        "print(set)"
      ],
      "metadata": {
        "colab": {
          "base_uri": "https://localhost:8080/"
        },
        "id": "t0ujz6yRqliA",
        "outputId": "09d77fe1-5300-463a-9b23-e6c76a05f9f5"
      },
      "execution_count": 23,
      "outputs": [
        {
          "output_type": "stream",
          "name": "stdout",
          "text": [
            "set()\n"
          ]
        }
      ]
    },
    {
      "cell_type": "code",
      "source": [
        "# 18. Write a code to remove the element 4 from the set {1, 2, 3, 4}.\n",
        "my_set = {1, 2, 3, 4}\n",
        "my_set.remove(4)\n",
        "print(my_set)"
      ],
      "metadata": {
        "colab": {
          "base_uri": "https://localhost:8080/"
        },
        "id": "Pbz0hvUHrKbl",
        "outputId": "33a9a7f0-f20d-4bde-993a-72aa101ee511"
      },
      "execution_count": 24,
      "outputs": [
        {
          "output_type": "stream",
          "name": "stdout",
          "text": [
            "{1, 2, 3}\n"
          ]
        }
      ]
    },
    {
      "cell_type": "code",
      "source": [
        "# 19.  Write a code to find the union of two sets {1, 2, 3} and {3, 4, 5}.\n",
        "set1 = {1, 2, 3}\n",
        "set2 = {3, 4, 5}\n",
        "union_set = set1.union(set2)\n",
        "print(union_set)"
      ],
      "metadata": {
        "colab": {
          "base_uri": "https://localhost:8080/"
        },
        "id": "V9pFytmjrhrK",
        "outputId": "a51dc237-cbeb-42a2-c56a-ca6148cbee4d"
      },
      "execution_count": 27,
      "outputs": [
        {
          "output_type": "stream",
          "name": "stdout",
          "text": [
            "{1, 2, 3, 4, 5}\n"
          ]
        }
      ]
    },
    {
      "cell_type": "code",
      "source": [
        "# 20. Write a code to find the intersection of two sets {1, 2, 3} and {2, 3, 4}.\n",
        "set1 = {1, 2, 3}\n",
        "set2 = {2, 3, 4}\n",
        "intersection_result = set1.intersection(set2)\n",
        "print(intersection_result)"
      ],
      "metadata": {
        "colab": {
          "base_uri": "https://localhost:8080/"
        },
        "id": "izAezw_YsLU5",
        "outputId": "f2737464-968e-4860-a093-7b30bf274d6e"
      },
      "execution_count": 29,
      "outputs": [
        {
          "output_type": "stream",
          "name": "stdout",
          "text": [
            "{2, 3}\n"
          ]
        }
      ]
    },
    {
      "cell_type": "code",
      "source": [
        "# 21. . Write a code to create a dictionary with the keys \"name\", \"age\", and \"city\", and print it.\n",
        "my_dictionary = {\"name\": \"michal tamang\", \"age\": 28, \"city\": \"Darjeeling\"}\n",
        "print(my_dictionary)"
      ],
      "metadata": {
        "colab": {
          "base_uri": "https://localhost:8080/"
        },
        "id": "Od5mNFS8tMtJ",
        "outputId": "3a012c93-84b7-4927-c83c-716f6960b557"
      },
      "execution_count": 30,
      "outputs": [
        {
          "output_type": "stream",
          "name": "stdout",
          "text": [
            "{'name': 'michal tamang', 'age': 28, 'city': 'Darjeeling'}\n"
          ]
        }
      ]
    },
    {
      "cell_type": "code",
      "source": [
        "#22. . Write a code to add a new key-value pair \"country\": \"USA\" to the dictionary {'name': 'John', 'age': 25}.\n",
        "my_dict = {'name': 'John', 'age': 25}\n",
        "my_dict['country'] = 'USA'\n",
        "print(my_dict)"
      ],
      "metadata": {
        "colab": {
          "base_uri": "https://localhost:8080/"
        },
        "id": "jxFdwBRYupiR",
        "outputId": "53a5edd9-6054-4663-8879-6708dae9d3c9"
      },
      "execution_count": 32,
      "outputs": [
        {
          "output_type": "stream",
          "name": "stdout",
          "text": [
            "{'name': 'John', 'age': 25, 'country': 'USA'}\n"
          ]
        }
      ]
    },
    {
      "cell_type": "code",
      "source": [
        "# 23. Write a code to access the value associated with the key \"name\" in the dictionary {'name': 'Alice', 'age': 30}.\n",
        "my_dict = {'name': 'Alice', 'age': 30}\n",
        "name_value = my_dict['name']\n",
        "print(name_value)"
      ],
      "metadata": {
        "colab": {
          "base_uri": "https://localhost:8080/"
        },
        "id": "a11X61sLv_EH",
        "outputId": "e1ad4495-610e-4d95-cc61-de1e929a86f7"
      },
      "execution_count": 1,
      "outputs": [
        {
          "output_type": "stream",
          "name": "stdout",
          "text": [
            "Alice\n"
          ]
        }
      ]
    },
    {
      "cell_type": "code",
      "source": [
        "# 24.  Write a code to remove the key \"age\" from the dictionary {'name': 'Bob', 'age': 22, 'city': 'New York'}.\n",
        "my_dict = {'name': 'bob', 'age': 22, 'city': 'new york'}\n",
        "del my_dict['age']\n",
        "print(my_dict)"
      ],
      "metadata": {
        "colab": {
          "base_uri": "https://localhost:8080/"
        },
        "id": "JQV-m0oknPpG",
        "outputId": "989cda68-c9a5-4643-d0fe-6fea8e6a3b4a"
      },
      "execution_count": 3,
      "outputs": [
        {
          "output_type": "stream",
          "name": "stdout",
          "text": [
            "{'name': 'bob', 'city': 'new york'}\n"
          ]
        }
      ]
    },
    {
      "cell_type": "code",
      "source": [
        "# 25. Write a code to check if the key \"city\" exists in the dictionary {'name': 'Alice', 'city': 'Paris'}.\n",
        "my_dict = {'name': 'Alice', 'city': 'paris'}\n",
        "if 'city' in my_dict:\n",
        "  print('city is there in my_dict')\n",
        "else:\n",
        "  print('city is not there in my_dict')"
      ],
      "metadata": {
        "colab": {
          "base_uri": "https://localhost:8080/"
        },
        "id": "zE0deNQpn61c",
        "outputId": "3717b0d0-1bc6-416a-ba88-f333737a18b9"
      },
      "execution_count": 4,
      "outputs": [
        {
          "output_type": "stream",
          "name": "stdout",
          "text": [
            "city is there in my_dict\n"
          ]
        }
      ]
    },
    {
      "cell_type": "code",
      "source": [
        "# 26. Write a code to create a list, a tuple, and a dictionary, and print them all.\n",
        "list = [1, 2, 3, 4, 5]\n",
        "tuple = (10, 20, 30, 40)\n",
        "dict = {'name': 'michal', 'age': 28, 'city': 'Darjeeling'}\n",
        "print('my_list:', list)\n",
        "print('my_tuple:', tuple)\n",
        "print('my_dict:', dict)"
      ],
      "metadata": {
        "colab": {
          "base_uri": "https://localhost:8080/"
        },
        "id": "r0C2xU8kpEoN",
        "outputId": "b971879a-eb38-4ecc-ab25-2dbda9ecbd0d"
      },
      "execution_count": 5,
      "outputs": [
        {
          "output_type": "stream",
          "name": "stdout",
          "text": [
            "my_list: [1, 2, 3, 4, 5]\n",
            "my_tuple: (10, 20, 30, 40)\n",
            "my_dict: {'name': 'michal', 'age': 28, 'city': 'Darjeeling'}\n"
          ]
        }
      ]
    },
    {
      "cell_type": "code",
      "source": [
        "# 27.  Write a code to create a list of 5 random numbers between 1 and 100, sort it in ascending order, and print the result.(replaced).\n",
        "import random\n",
        "random_numbers = random.sample(range(1, 101), 5)\n",
        "random_numbers.sort()\n",
        "print(random_numbers)"
      ],
      "metadata": {
        "colab": {
          "base_uri": "https://localhost:8080/"
        },
        "id": "j3lwq--wqRxa",
        "outputId": "e7eb4dcb-5c90-437e-d1c8-20fdb6468fce"
      },
      "execution_count": 6,
      "outputs": [
        {
          "output_type": "stream",
          "name": "stdout",
          "text": [
            "[16, 64, 71, 73, 78]\n"
          ]
        }
      ]
    },
    {
      "cell_type": "code",
      "source": [
        "# 28. Write a code to create a list with strings and print the element at the third index.\n",
        "my_list = ['orange', 'apple', 'banana', 'kiwi', 'mango']\n",
        "my_list[3]"
      ],
      "metadata": {
        "colab": {
          "base_uri": "https://localhost:8080/",
          "height": 35
        },
        "id": "41Y6BlyqryVP",
        "outputId": "dec81828-bcd7-4efc-a603-b20b9c4e99d9"
      },
      "execution_count": 8,
      "outputs": [
        {
          "output_type": "execute_result",
          "data": {
            "text/plain": [
              "'kiwi'"
            ],
            "application/vnd.google.colaboratory.intrinsic+json": {
              "type": "string"
            }
          },
          "metadata": {},
          "execution_count": 8
        }
      ]
    },
    {
      "cell_type": "code",
      "source": [
        "# 29. Write a code to combine two dictionaries into one and print the result.\n",
        "# Define two dictionaries\n",
        "dict1 = {'a': 1, 'b': 2, 'c': 3}\n",
        "dict2 = {'d': 4, 'e': 5, 'f': 6}\n",
        "\n",
        "# Combine the dictionaries\n",
        "dict1.update(dict2)\n",
        "\n",
        "# Print the result\n",
        "print(\"Combined Dictionary:\", dict1)\n"
      ],
      "metadata": {
        "colab": {
          "base_uri": "https://localhost:8080/"
        },
        "id": "ZlaR3KW-saTr",
        "outputId": "8c6682d3-b905-46ce-b25d-484163e5bb48"
      },
      "execution_count": 19,
      "outputs": [
        {
          "output_type": "stream",
          "name": "stdout",
          "text": [
            "Combined Dictionary: {'a': 1, 'b': 2, 'c': 3, 'd': 4, 'e': 5, 'f': 6}\n"
          ]
        }
      ]
    },
    {
      "cell_type": "code",
      "source": [
        "# 30. Write a code to convert a list of strings into a set.\n",
        "string_list = ['orange', 'banana', 'mango', 'apple']\n",
        "string_set = set(string_list)\n",
        "print(string_set)\n"
      ],
      "metadata": {
        "colab": {
          "base_uri": "https://localhost:8080/"
        },
        "id": "8hOW9ETbthvz",
        "outputId": "03639734-a596-4907-c45c-cf0addee84f5"
      },
      "execution_count": 20,
      "outputs": [
        {
          "output_type": "stream",
          "name": "stdout",
          "text": [
            "{'apple', 'banana', 'mango', 'orange'}\n"
          ]
        }
      ]
    },
    {
      "cell_type": "code",
      "source": [],
      "metadata": {
        "id": "TwESsEJXvHjZ"
      },
      "execution_count": null,
      "outputs": []
    }
  ]
}